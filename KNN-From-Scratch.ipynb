{
 "cells": [
  {
   "cell_type": "markdown",
   "id": "7c2d05ed",
   "metadata": {},
   "source": [
    "### Import Libraries"
   ]
  },
  {
   "cell_type": "code",
   "execution_count": 1,
   "id": "45f76ad0",
   "metadata": {},
   "outputs": [],
   "source": [
    "import numpy as np\n",
    "import pandas as pd\n",
    "from sklearn.datasets import load_iris\n",
    "from math import sqrt\n",
    "from sklearn.model_selection import train_test_split"
   ]
  },
  {
   "cell_type": "code",
   "execution_count": 2,
   "id": "22f5ff41",
   "metadata": {},
   "outputs": [],
   "source": [
    "# load iris\n",
    "\n",
    "iris = load_iris()"
   ]
  },
  {
   "cell_type": "markdown",
   "id": "8d34e8fb",
   "metadata": {},
   "source": [
    "### Training KNN model"
   ]
  },
  {
   "cell_type": "code",
   "execution_count": 3,
   "id": "8999eb81",
   "metadata": {
    "scrolled": false
   },
   "outputs": [],
   "source": [
    "# Calculate euclidean distance between test sample and traning sample.\n",
    "\n",
    "def calc_distances(x1, x2):\n",
    "    distance = 0\n",
    "    for ele in range(len(x1)):\n",
    "        distance += (x2[ele] - x1[ele]) ** 2\n",
    "    return sqrt(distance)"
   ]
  },
  {
   "cell_type": "code",
   "execution_count": 4,
   "id": "a47fa3a7",
   "metadata": {},
   "outputs": [],
   "source": [
    "# Find labels of K nearest neighbors of the test sample\n",
    "# Predict the label for test sample having maximum frequency without sorting the distances.\n",
    "\n",
    "def prediction(X_train, Y_train, X_test, k):\n",
    "\n",
    "    distances = []\n",
    "    \n",
    "    for train_sample in range(len(X_train)):\n",
    "        \n",
    "        euc = calc_distances(X_test, X_train[train_sample])\n",
    "        \n",
    "        if len(distances) < k:\n",
    "            distances.append((X_train[train_sample], Y_train[train_sample], euc))\n",
    "            \n",
    "        elif len([x for x in distances if x[-1] > euc]) > 0:\n",
    "            index = np.argmax([x[-1] for x in distances])\n",
    "            distances[index] = (X_train[train_sample], Y_train[train_sample], euc)\n",
    "    \n",
    "    labels = [neighbor[1] for neighbor in distances]\n",
    "    Y_pred = max(set(labels), key=labels.count)\n",
    "    \n",
    "    return Y_pred"
   ]
  },
  {
   "cell_type": "code",
   "execution_count": 5,
   "id": "2d20d7de",
   "metadata": {},
   "outputs": [],
   "source": [
    "# repeat the prediction for all samples in test dataset\n",
    "\n",
    "def knn_model(X_train, X_test, Y_train, k):\n",
    "    Y_pred = []\n",
    "    for test_sample in X_test:\n",
    "        Y_pred.append(prediction(X_train, Y_train, test_sample, k))\n",
    "    return np.array(Y_pred) "
   ]
  },
  {
   "cell_type": "code",
   "execution_count": 6,
   "id": "370fab1a",
   "metadata": {},
   "outputs": [],
   "source": [
    "# Calculate error rates by comparing actual label for data and predicted label for the same.\n",
    "\n",
    "def calc_error_rate(Y_pred, Y_test, dataset):\n",
    "    errors = 0\n",
    "    for i in range(len(Y_pred)):\n",
    "        if Y_pred[i] != Y_test[i]:\n",
    "            errors += 1\n",
    "\n",
    "    error_rate = errors/len(Y_pred)\n",
    "    accuracy = (1-error_rate)*100\n",
    "    \n",
    "    print(\"\\n\", dataset, \"Dataset:\")\n",
    "    print(\"No. of Errors =\", errors, \"out of\", len(Y_pred), \"samples.\")\n",
    "    print(\"Error Rate = %.3f\" %error_rate)\n",
    "    print(\"Correct Predictions (Accuracy) = %.2f%%\" %accuracy)"
   ]
  },
  {
   "cell_type": "code",
   "execution_count": 7,
   "id": "a932ba1d",
   "metadata": {},
   "outputs": [
    {
     "name": "stdout",
     "output_type": "stream",
     "text": [
      "\n",
      "For k = 1,\n",
      "\n",
      " Iris Dataset:\n",
      "No. of Errors = 1 out of 30 samples.\n",
      "Error Rate = 0.033\n",
      "Correct Predictions (Accuracy) = 96.67%\n",
      "\n",
      "For k = 3,\n",
      "\n",
      " Iris Dataset:\n",
      "No. of Errors = 1 out of 30 samples.\n",
      "Error Rate = 0.033\n",
      "Correct Predictions (Accuracy) = 96.67%\n"
     ]
    }
   ],
   "source": [
    "# Prediction and Error rate of Iris dataset\n",
    "\n",
    "def iris_dataset(k):\n",
    "   \n",
    "    X = iris.data\n",
    "    Y = iris.target\n",
    "    \n",
    "    X_train, X_test, Y_train, Y_test = train_test_split(X, Y, test_size = 0.2, random_state = 501, shuffle=True, stratify=Y)\n",
    "    Y_pred = knn_model(X_train, X_test, Y_train, int(k))\n",
    "    calc_error_rate(Y_pred, Y_test, \"Iris\")\n",
    "\n",
    "print(\"\\nFor k = 1,\")\n",
    "iris_dataset(1)\n",
    "\n",
    "print(\"\\nFor k = 3,\")\n",
    "iris_dataset(3)"
   ]
  }
 ],
 "metadata": {
  "kernelspec": {
   "display_name": "Python 3 (ipykernel)",
   "language": "python",
   "name": "python3"
  },
  "language_info": {
   "codemirror_mode": {
    "name": "ipython",
    "version": 3
   },
   "file_extension": ".py",
   "mimetype": "text/x-python",
   "name": "python",
   "nbconvert_exporter": "python",
   "pygments_lexer": "ipython3",
   "version": "3.10.6"
  }
 },
 "nbformat": 4,
 "nbformat_minor": 5
}
